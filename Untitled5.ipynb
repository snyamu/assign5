{
  "nbformat": 4,
  "nbformat_minor": 0,
  "metadata": {
    "colab": {
      "name": "Untitled5.ipynb",
      "provenance": [],
      "collapsed_sections": [],
      "authorship_tag": "ABX9TyPAFo1IzUSlSDUtjhWjsXKG",
      "include_colab_link": true
    },
    "kernelspec": {
      "name": "python3",
      "display_name": "Python 3"
    },
    "language_info": {
      "name": "python"
    }
  },
  "cells": [
    {
      "cell_type": "markdown",
      "metadata": {
        "id": "view-in-github",
        "colab_type": "text"
      },
      "source": [
        "<a href=\"https://colab.research.google.com/github/snyamu/assign5/blob/main/Untitled5.ipynb\" target=\"_parent\"><img src=\"https://colab.research.google.com/assets/colab-badge.svg\" alt=\"Open In Colab\"/></a>"
      ]
    },
    {
      "cell_type": "code",
      "metadata": {
        "colab": {
          "base_uri": "https://localhost:8080/"
        },
        "id": "mmuV3U7Y4ZPq",
        "outputId": "fd4e4c6c-de53-4cc8-e0ff-837d62d8cc9a"
      },
      "source": [
        "while True:\n",
        "   test = input(\"Choose an option below:\")\n",
        "   test = test.lower()\n",
        "\n",
        "   if test == \"p\":\n",
        "      print(f\"{options}\")\n",
        "\n",
        "   elif test == \"c\":\n",
        "        c = int(input(\"Enter a celsius value\"))\n",
        "        print(f\"Celsius: {c} Farenheit: {c * 1.8 + 32}\")\n",
        "\n",
        "   elif test == \"m\":\n",
        "        m = int(input(\"Enter miles\"))\n",
        "        print(f\"Miles: {m} Kilometers: {m*1.6}\")\n",
        "\n",
        "   elif test == \"km\":\n",
        "        km = int(input(\"Enter kilometers\"))\n",
        "        print(f\"Kilometers: {km} Miles: {m * .62}\")\n",
        "\n",
        "   elif test == \"in\":\n",
        "        inches = int(input(\"Enter inches\"))\n",
        "        print(f\"Inches: {inches} Centimeters: {inches * 2.54}\")\n",
        "\n",
        "   elif test == \"cm\":\n",
        "        cm = int(input(\"Enter centimeters\"))\n",
        "        print(f\"Centimeters: {cm} Inches: {cm * .39}\")\n",
        "        \n",
        "   elif test == \"q\":\n",
        "        print(\"Quitting loop\")\n",
        "        break\n",
        "        \n",
        "   else:\n",
        "       print(\"Incorrect input detected: {test}\")\n",
        "\n",
        "\n",
        "\n"
      ],
      "execution_count": null,
      "outputs": [
        {
          "output_type": "stream",
          "text": [
            "Choose an option below:c\n",
            "Enter a celsius value35\n",
            "Celsius: 35 Farenheit: 95.0\n",
            "Choose an option below:q\n",
            "Quitting loop\n"
          ],
          "name": "stdout"
        }
      ]
    }
  ]
}