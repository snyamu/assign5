{
  "nbformat": 4,
  "nbformat_minor": 0,
  "metadata": {
    "colab": {
      "name": "Untitled5.ipynb",
      "provenance": [],
      "collapsed_sections": [],
      "authorship_tag": "ABX9TyM90kPH/emmfJSHaIPi8vX1",
      "include_colab_link": true
    },
    "kernelspec": {
      "name": "python3",
      "display_name": "Python 3"
    },
    "language_info": {
      "name": "python"
    }
  },
  "cells": [
    {
      "cell_type": "markdown",
      "metadata": {
        "id": "view-in-github",
        "colab_type": "text"
      },
      "source": [
        "<a href=\"https://colab.research.google.com/github/snyamu/assign5/blob/main/Untitled5.ipynb\" target=\"_parent\"><img src=\"https://colab.research.google.com/assets/colab-badge.svg\" alt=\"Open In Colab\"/></a>"
      ]
    },
    {
      "cell_type": "code",
      "metadata": {
        "id": "mmuV3U7Y4ZPq",
        "colab": {
          "base_uri": "https://localhost:8080/"
        },
        "outputId": "cf966077-ff12-4f4d-cd27-258c45c416e5"
      },
      "source": [
        "\n",
        "\n",
        "print (\"Options:\")\n",
        "print (\"[p] Print Options\")\n",
        "print (\"[c] Convert from Celsius\")\n",
        "print (\"[f] Convert from Fahrenheit\")\n",
        "print (\"[m] Convert from Miles\")\n",
        "print (\"[km] Convert from Kilometers\")\n",
        "print (\"[in] Convert from Inches\")\n",
        "print (\"[cm] Convert from centimeters\")\n",
        "print (\"[q] Quit loop\")\n",
        "\n",
        "\n",
        "while True:\n",
        "   test = input(\"Choose Options:\")\n",
        "   test = test.lower()\n",
        "\n",
        "   if test == \"p\":\n",
        "      print (\"Choose Options\")\n",
        "      \n",
        "   elif test == \"c\":\n",
        "        c = int(input(\"Enter a celsius value\"))\n",
        "        print(f\"Celsius: {c} Farenheit: {c * 1.8 + 32}\")\n",
        "\n",
        "   elif test == \"m\":\n",
        "        m = int(input(\"Enter miles\"))\n",
        "        print(f\"Miles: {m} Kilometers: {m*1.6}\")\n",
        "\n",
        "   elif test == \"km\":\n",
        "        km = int(input(\"Enter kilometers\"))\n",
        "        print(f\"Kilometers: {km} Miles: {m * .62}\")\n",
        "\n",
        "   elif test == \"in\":\n",
        "        inches = int(input(\"Enter inches\"))\n",
        "        print(f\"Inches: {inches} Centimeters: {inches * 2.54}\")\n",
        "\n",
        "   elif test == \"cm\":\n",
        "        cm = int(input(\"Enter centimeters\"))\n",
        "        print(f\"Centimeters: {cm} Inches: {cm * .39}\")\n",
        "        \n",
        "   elif test == \"q\":\n",
        "        print(\"Quitting loop\")\n",
        "        break\n",
        "        \n",
        "   else:\n",
        "       print(\"Incorrect input detected: {test}\")\n",
        "\n"
      ],
      "execution_count": null,
      "outputs": [
        {
          "output_type": "stream",
          "text": [
            "Options:\n",
            "[p] Print Options\n",
            "[c] Convert from Celsius\n",
            "[f] Convert from Fahrenheit\n",
            "[m] Convert from Miles\n",
            "[km] Convert from Kilometers\n",
            "[in] Convert from Inches\n",
            "[cm] Convert from centimeters\n",
            "[q] Quit loop\n",
            "Choose Options:p\n",
            "Choose Options\n",
            "Choose Options:cm\n",
            "Enter centimeters56\n",
            "Centimeters: 56 Inches: 21.84\n",
            "Choose Options:w\n",
            "Incorrect input detected: {test}\n",
            "Choose Options:q\n",
            "Quitting loop\n"
          ],
          "name": "stdout"
        }
      ]
    }
  ]
}